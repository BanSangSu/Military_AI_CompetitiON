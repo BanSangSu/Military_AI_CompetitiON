{
 "cells": [
  {
   "cell_type": "code",
   "execution_count": 4,
   "metadata": {},
   "outputs": [],
   "source": [
    "\"\"\"\n",
    "Predict\n",
    "\"\"\"\n",
    "from datetime import datetime\n",
    "from tqdm import tqdm\n",
    "import numpy as np\n",
    "import random, os, sys, torch, cv2, warnings\n",
    "from glob import glob\n",
    "from torch.utils.data import DataLoader\n",
    "\n",
    "prj_dir = os.path.dirname(os.path.abspath(\"baseline\")) # for jupyter\n",
    "sys.path.append(prj_dir)\n",
    "\n",
    "from modules.utils import load_yaml, save_yaml, get_logger\n",
    "from modules.scalers import get_image_scaler\n",
    "from modules.datasets import SegDataset\n",
    "from models.utils import get_model\n",
    "warnings.filterwarnings('ignore')"
   ]
  },
  {
   "cell_type": "code",
   "execution_count": 5,
   "metadata": {},
   "outputs": [
    {
     "data": {
      "text/plain": [
       "'/home/fds/Downloads/Military_AI_CompetitiON/maicon_codes_computer_room_5(Refer to codes in this folder)'"
      ]
     },
     "execution_count": 5,
     "metadata": {},
     "output_type": "execute_result"
    }
   ],
   "source": [
    "prj_dir"
   ]
  },
  {
   "cell_type": "code",
   "execution_count": 7,
   "metadata": {},
   "outputs": [],
   "source": [
    "\n",
    "if __name__ == '__main__':\n",
    "\n",
    "    #! Load config\n",
    "    config = load_yaml(os.path.join(prj_dir, 'config', 'predict.yaml'))\n",
    "    train_config = load_yaml(os.path.join(prj_dir, 'results', 'train', config['train_serial'], 'train.yaml'))\n",
    "    \n",
    "    #! Set predict serial\n",
    "    pred_serial = config['train_serial'] + '_' + datetime.now().strftime(\"%Y%m%d_%H%M%S\")\n",
    "\n",
    "    # Set random seed, deterministic\n",
    "    torch.cuda.manual_seed(train_config['seed'])\n",
    "    torch.manual_seed(train_config['seed'])\n",
    "    np.random.seed(train_config['seed'])\n",
    "    random.seed(train_config['seed'])\n",
    "    torch.backends.cudnn.deterministic = True\n",
    "    torch.backends.cudnn.benchmark = False\n",
    "\n",
    "    # Set device(GPU/CPU)\n",
    "    os.environ['CUDA_VISIBLE_DEVICES'] = str(config['gpu_num'])\n",
    "    device = torch.device('cuda' if torch.cuda.is_available() else 'cpu')\n",
    "    \n",
    "    # Create train result directory and set logger\n",
    "    pred_result_dir = os.path.join(prj_dir, 'results', 'pred', pred_serial)\n",
    "    pred_result_dir_mask = os.path.join(prj_dir, 'results', 'pred', pred_serial, 'mask')\n",
    "    os.makedirs(pred_result_dir, exist_ok=True)\n",
    "    os.makedirs(pred_result_dir_mask, exist_ok=True)\n",
    "\n",
    "    # Set logger\n",
    "    logging_level = 'debug' if config['verbose'] else 'info'\n",
    "    logger = get_logger(name='train',\n",
    "                        file_path=os.path.join(pred_result_dir, 'pred.log'),\n",
    "                        level=logging_level)\n",
    "\n",
    "    # Set data directory\n",
    "    test_dirs = os.path.join(prj_dir, 'data', 'test')\n",
    "    test_img_paths = glob(os.path.join(test_dirs, 'x', '*.png'))\n",
    "\n",
    "    #! Load data & create dataset for train \n",
    "    test_dataset = SegDataset(paths=test_img_paths,\n",
    "                            input_size=[train_config['input_width'], train_config['input_height']],\n",
    "                            scaler=get_image_scaler(train_config['scaler']),\n",
    "                            mode='test',\n",
    "                            logger=logger)\n",
    "\n",
    "    # Create data loader\n",
    "    test_dataloader = DataLoader(dataset=test_dataset,\n",
    "                                batch_size=config['batch_size'],\n",
    "                                num_workers=config['num_workers'],\n",
    "                                shuffle=False,\n",
    "                                drop_last=False)\n",
    "    logger.info(f\"Load test dataset: {len(test_dataset)}\")\n",
    "\n",
    "    # Load architecture\n",
    "    model = get_model(model_str=train_config['architecture'])\n",
    "    model = model(\n",
    "                classes=train_config['n_classes'],\n",
    "                encoder_name=train_config['encoder'],\n",
    "                encoder_weights=train_config['encoder_weight'],\n",
    "                activation=train_config['activation']).to(device)\n",
    "    logger.info(f\"Load model architecture: {train_config['architecture']}\")\n",
    "\n",
    "    #! Load weight\n",
    "    check_point_path = os.path.join(prj_dir, 'results', 'train', config['train_serial'], 'model.pt')\n",
    "    check_point = torch.load(check_point_path)\n",
    "    model.load_state_dict(check_point['model'])\n",
    "    logger.info(f\"Load model weight, {check_point_path}\")\n",
    "\n",
    "    # Save config\n",
    "    save_yaml(os.path.join(pred_result_dir, 'train_config.yml'), train_config)\n",
    "    save_yaml(os.path.join(pred_result_dir, 'predict_config.yml'), config)"
   ]
  },
  {
   "cell_type": "markdown",
   "metadata": {},
   "source": [
    "### Test predict"
   ]
  },
  {
   "cell_type": "code",
   "execution_count": 8,
   "metadata": {},
   "outputs": [],
   "source": [
    "# Set data directory\n",
    "train_dirs = os.path.join('..', 'data', 'train')\n",
    "train_img_paths = glob(os.path.join(train_dirs, 'x', '*.png'))\n",
    "\n",
    "train_dataset = SegDataset(paths=train_img_paths,\n",
    "                        input_size=[train_config['input_width'], train_config['input_height']],\n",
    "                        scaler=get_image_scaler(train_config['scaler']),\n",
    "                        mode='test',\n",
    "                        )\n",
    "\n",
    "train_dataloader = DataLoader(dataset=train_dataset,\n",
    "                                batch_size=config['batch_size'],\n",
    "                                num_workers=config['num_workers'],\n",
    "                                shuffle=False,\n",
    "                                drop_last=False)"
   ]
  },
  {
   "cell_type": "code",
   "execution_count": 4,
   "metadata": {},
   "outputs": [
    {
     "data": {
      "text/plain": [
       "<matplotlib.image.AxesImage at 0x7fde72377400>"
      ]
     },
     "execution_count": 4,
     "metadata": {},
     "output_type": "execute_result"
    },
    {
     "data": {
      "image/png": "[encoded data removed]",
      "text/plain": [
       "<Figure size 432x288 with 1 Axes>"
      ]
     },
     "metadata": {
      "needs_background": "light"
     },
     "output_type": "display_data"
    }
   ],
   "source": [
    "# from matplotlib import pyplot as plt\n",
    "# img = \"2017_MPG_2LB_000631.png\"\n",
    "# img_y_path = \"../data/train/y\"\n",
    "# y_path = os.path.join(img_y_path,img)\n",
    "# ground_truth = cv2.imread(y_path, cv2.IMREAD_GRAYSCALE)\n",
    "# plt.imshow(ground_truth, cmap='turbo')\n",
    "# # plt.imshow(np.squeeze(result, 0), cmap='turbo')"
   ]
  },
  {
   "cell_type": "code",
   "execution_count": 15,
   "metadata": {},
   "outputs": [
    {
     "name": "stderr",
     "output_type": "stream",
     "text": [
      " 68%|██████▊   | 510/750 [01:33<00:44,  5.45it/s]"
     ]
    },
    {
     "name": "stdout",
     "output_type": "stream",
     "text": [
      "2019_KSG_1JY_000010.png\n"
     ]
    },
    {
     "name": "stderr",
     "output_type": "stream",
     "text": [
      "\n"
     ]
    },
    {
     "data": {
      "image/png": "[encoded data removed]",
      "text/plain": [
       "<Figure size 432x288 with 1 Axes>"
      ]
     },
     "metadata": {
      "needs_background": "light"
     },
     "output_type": "display_data"
    }
   ],
   "source": [
    "# Test predict\n",
    "from matplotlib import pyplot as plt\n",
    "# img = \"2017_KRG_2LB_000887.png\"\n",
    "# img = \"2017_MPG_2LB_000631.png\"\n",
    "img = \"2019_KSG_1JY_000010.png\"\n",
    "flag = 0\n",
    "\n",
    "plt.figure()\n",
    "# f, axarr = plt.subplots(1,2, figsize=(15, 15)) \n",
    "\n",
    "img_x_path = \"../data/train/x\"\n",
    "img_y_path = \"../data/train/y\"\n",
    "\n",
    "model.eval()\n",
    "cnt = 0\n",
    "with torch.no_grad():\n",
    "    for batch_id, (x, orig_size, filename) in enumerate(tqdm(train_dataloader)):\n",
    "        if flag or img in filename:\n",
    "            if cnt == 100 or img in filename:\n",
    "                x = x.to(device, dtype=torch.float)\n",
    "                y_pred = model(x)\n",
    "                y_pred_argmax = y_pred.argmax(1).cpu().numpy().astype(np.uint8)\n",
    "                orig_size = [(orig_size[0].tolist()[i], orig_size[1].tolist()[i]) for i in range(len(orig_size[0]))]\n",
    "                # Save predict result\n",
    "                c = 0\n",
    "                for filename_, orig_size_, y_pred_ in zip(filename, orig_size, y_pred_argmax):\n",
    "                    if flag or filename_ == img:\n",
    "                        if c == 1:\n",
    "                            break\n",
    "                        img = filename_\n",
    "                        print(img)\n",
    "                        resized_img = cv2.resize(y_pred_, [orig_size_[1], orig_size_[0]], interpolation=cv2.INTER_NEAREST)\n",
    "                        plt.imshow(resized_img, cmap='turbo', vmin=0,vmax=3)\n",
    "                        # axarr[0].imshow(resized_img, cmap='turbo', vmin=0,vmax=3)\n",
    "\n",
    "                        y_path = os.path.join(img_y_path,img)\n",
    "                        # ground_truth = cv2.imread(y_path, cv2.IMREAD_GRAYSCALE)\n",
    "                        # axarr[1].imshow(ground_truth, cmap='turbo', vmin=0,vmax=3)\n",
    "                    #     cv2.imwrite(os.path.join(pred_result_dir_mask, filename_), resized_img)\n",
    "                        c += 1 \n",
    "                break\n",
    "            cnt += 1\n"
   ]
  },
  {
   "cell_type": "markdown",
   "metadata": {},
   "source": [
    "### Predict test for submission"
   ]
  },
  {
   "cell_type": "code",
   "execution_count": 7,
   "metadata": {},
   "outputs": [
    {
     "name": "stderr",
     "output_type": "stream",
     "text": [
      "  0%|          | 0/147 [00:00<?, ?it/s]"
     ]
    },
    {
     "name": "stderr",
     "output_type": "stream",
     "text": [
      "100%|██████████| 147/147 [03:03<00:00,  1.25s/it]\n"
     ]
    }
   ],
   "source": [
    "# Predict\n",
    "logger.info(f\"START PREDICTION\")\n",
    "\n",
    "model.eval()\n",
    "\n",
    "with torch.no_grad():\n",
    "\n",
    "    for batch_id, (x, orig_size, filename) in enumerate(tqdm(test_dataloader)):\n",
    "        \n",
    "        x = x.to(device, dtype=torch.float)\n",
    "        y_pred = model(x)\n",
    "        y_pred_argmax = y_pred.argmax(1).cpu().numpy().astype(np.uint8)\n",
    "        orig_size = [(orig_size[0].tolist()[i], orig_size[1].tolist()[i]) for i in range(len(orig_size[0]))]\n",
    "        # Save predict result\n",
    "        for filename_, orig_size_, y_pred_ in zip(filename, orig_size, y_pred_argmax):\n",
    "            resized_img = cv2.resize(y_pred_, [orig_size_[1], orig_size_[0]], interpolation=cv2.INTER_NEAREST)\n",
    "            cv2.imwrite(os.path.join(pred_result_dir_mask, filename_), resized_img)\n",
    "logger.info(f\"END PREDICTION\")"
   ]
  }
 ],
 "metadata": {
  "kernelspec": {
   "display_name": "Python 3.10.4 ('py310_pytorch')",
   "language": "python",
   "name": "python3"
  },
  "language_info": {
   "codemirror_mode": {
    "name": "ipython",
    "version": 3
   },
   "file_extension": ".py",
   "mimetype": "text/x-python",
   "name": "python",
   "nbconvert_exporter": "python",
   "pygments_lexer": "ipython3",
   "version": "3.10.4"
  },
  "orig_nbformat": 4,
  "vscode": {
   "interpreter": {
    "hash": "4755a0ac336b2d92cae304601054584f3e51fa9cdaefb452a7f1602e63829cee"
   }
  }
 },
 "nbformat": 4,
 "nbformat_minor": 2
}
